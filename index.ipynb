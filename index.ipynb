{
 "cells": [
  {
   "cell_type": "markdown",
   "metadata": {},
   "source": [
    "# Euclidean Distance and Nearest Neighbors"
   ]
  },
  {
   "cell_type": "markdown",
   "metadata": {},
   "source": [
    "## Objectives\n",
    "\n",
    "* Perform basic data analysis tasks for answering simple analytical questions in Python, Pandas and Numpy. \n",
    "* Understand the significance of euclidean distance towards measuring similarity between data items. \n",
    "* Calculate distance measures for a toy example in a scalable manner. \n",
    "\n",
    "### Introduction\n",
    "\n",
    "In this lab, you will write methods to calculate the distance of various neighbors from each other in a neighborhood. \n",
    "\n",
    "![](http://newsarchive.heart.org/wp-content/uploads/2017/04/neighborhood.jpg)\n",
    "\n",
    "Let's assume that the $x$ coordinates represent avenues of a neighbor, the $y$ coordinates represent streets.  We will also assume that the distance between each street and the distance between each avenue is the same.\n",
    "\n",
    "We will work up to a function called `nearest_neighbors` that given a neighbor, finds the other neighbors who are closest."
   ]
  },
  {
   "cell_type": "markdown",
   "metadata": {},
   "source": [
    "### Gather the data"
   ]
  },
  {
   "cell_type": "markdown",
   "metadata": {},
   "source": [
    "Let's declare a variable `neighbors` as a pandas data frame, with each row representing the [name, avenue, street] for each neighbor."
   ]
  },
  {
   "cell_type": "code",
   "execution_count": 1,
   "metadata": {},
   "outputs": [
    {
     "data": {
      "text/html": [
       "<div>\n",
       "<style scoped>\n",
       "    .dataframe tbody tr th:only-of-type {\n",
       "        vertical-align: middle;\n",
       "    }\n",
       "\n",
       "    .dataframe tbody tr th {\n",
       "        vertical-align: top;\n",
       "    }\n",
       "\n",
       "    .dataframe thead th {\n",
       "        text-align: right;\n",
       "    }\n",
       "</style>\n",
       "<table border=\"1\" class=\"dataframe\">\n",
       "  <thead>\n",
       "    <tr style=\"text-align: right;\">\n",
       "      <th></th>\n",
       "      <th>Name</th>\n",
       "      <th>Avenue</th>\n",
       "      <th>Street</th>\n",
       "    </tr>\n",
       "  </thead>\n",
       "  <tbody>\n",
       "    <tr>\n",
       "      <th>0</th>\n",
       "      <td>Fred</td>\n",
       "      <td>4</td>\n",
       "      <td>8</td>\n",
       "    </tr>\n",
       "    <tr>\n",
       "      <th>1</th>\n",
       "      <td>Suzie</td>\n",
       "      <td>1</td>\n",
       "      <td>1</td>\n",
       "    </tr>\n",
       "    <tr>\n",
       "      <th>2</th>\n",
       "      <td>Bob</td>\n",
       "      <td>5</td>\n",
       "      <td>8</td>\n",
       "    </tr>\n",
       "    <tr>\n",
       "      <th>3</th>\n",
       "      <td>Edgar</td>\n",
       "      <td>6</td>\n",
       "      <td>13</td>\n",
       "    </tr>\n",
       "    <tr>\n",
       "      <th>4</th>\n",
       "      <td>Steven</td>\n",
       "      <td>3</td>\n",
       "      <td>6</td>\n",
       "    </tr>\n",
       "    <tr>\n",
       "      <th>5</th>\n",
       "      <td>Natalie</td>\n",
       "      <td>5</td>\n",
       "      <td>4</td>\n",
       "    </tr>\n",
       "  </tbody>\n",
       "</table>\n",
       "</div>"
      ],
      "text/plain": [
       "      Name  Avenue  Street\n",
       "0     Fred       4       8\n",
       "1    Suzie       1       1\n",
       "2      Bob       5       8\n",
       "3    Edgar       6      13\n",
       "4   Steven       3       6\n",
       "5  Natalie       5       4"
      ]
     },
     "execution_count": 1,
     "metadata": {},
     "output_type": "execute_result"
    }
   ],
   "source": [
    "import pandas as pd\n",
    "neighbors = pd.DataFrame(\n",
    "              [['Fred', 4, 8],\n",
    "              ['Suzie', 1, 1], \n",
    "              ['Bob', 5, 8], \n",
    "              ['Edgar', 6, 13], \n",
    "              ['Steven', 3, 6], \n",
    "              ['Natalie', 5, 4]], \n",
    "    columns = ['Name', 'Avenue', 'Street'])\n",
    "\n",
    "neighbors"
   ]
  },
  {
   "cell_type": "markdown",
   "metadata": {},
   "source": [
    "Use this dataframe and build a scatter plot for all 6 neighbors, with avenue placed on x-axis and street placed on y-axis. Label the plot with legend to show each neighbor with different hue value. "
   ]
  },
  {
   "cell_type": "code",
   "execution_count": 2,
   "metadata": {},
   "outputs": [],
   "source": [
    "# Plot a scatter plot with avenues at x-axis and street numbers at y-axis\n"
   ]
  },
  {
   "cell_type": "code",
   "execution_count": null,
   "metadata": {},
   "outputs": [],
   "source": []
  },
  {
   "cell_type": "markdown",
   "metadata": {},
   "source": [
    "We'll start by focusing on the neigbors Fred and Natalie, and points (4, 8) and (5, 4) respectively. \n",
    "\n",
    "Create two variables `fred` and `natalie` from above dataframe as numpy arrays. "
   ]
  },
  {
   "cell_type": "code",
   "execution_count": 3,
   "metadata": {},
   "outputs": [
    {
     "data": {
      "text/plain": [
       "(None, None)"
      ]
     },
     "execution_count": 3,
     "metadata": {},
     "output_type": "execute_result"
    }
   ],
   "source": [
    "# Create two variables ,'fred' and 'natalie' from by reading appropriate rows from neighbors dataframe\n",
    "fred = None\n",
    "natalie = None\n",
    "\n",
    "fred, natalie\n",
    "\n",
    "# (array([['Fred', 4, 8]], dtype=object),\n",
    "#  array([['Natalie', 5, 4]], dtype=object))"
   ]
  },
  {
   "cell_type": "markdown",
   "metadata": {},
   "source": [
    "### Calculating the sides of the triangle\n",
    "\n",
    "Remember that to calculate the distance, we use the Pythagorean Theorem to calculate the two shorter sides of the right triangle, and from there can calculate the distance, that is the hypotenuse, of the triangle. Let's start with calculating the shorter sides and then use that work to calculate the distance.\n",
    "\n",
    "Write a function called `street_distance` that takes in numpy arrays and calculates how far in streets two neighbors are from each other. So for example, with Natalie at street 4, and Fred at street 8, our street_distance function should return the number 4. The distance should always be positive."
   ]
  },
  {
   "cell_type": "code",
   "execution_count": 4,
   "metadata": {},
   "outputs": [],
   "source": [
    "def street_distance(first_neighbor, second_neighbor):\n",
    "        d = None\n",
    "        return d"
   ]
  },
  {
   "cell_type": "markdown",
   "metadata": {},
   "source": [
    "Now we execute the code, and as you can see from the comment to the right, our expected returned street distance is $4$."
   ]
  },
  {
   "cell_type": "code",
   "execution_count": 5,
   "metadata": {},
   "outputs": [],
   "source": [
    "street_distance(fred, natalie)\n",
    "\n",
    "# 4"
   ]
  },
  {
   "cell_type": "markdown",
   "metadata": {},
   "source": [
    "Similarly, write a function called `avenue_distance` that calculates how far in avenues two neighbors are from each other. The distance should always be positive."
   ]
  },
  {
   "cell_type": "code",
   "execution_count": 6,
   "metadata": {},
   "outputs": [],
   "source": [
    "def avenue_distance(first_neighbor, second_neighbor):\n",
    "        d = None\n",
    "        return d"
   ]
  },
  {
   "cell_type": "code",
   "execution_count": 7,
   "metadata": {},
   "outputs": [],
   "source": [
    "avenue_distance(fred, natalie)\n",
    "\n",
    "# 1"
   ]
  },
  {
   "cell_type": "markdown",
   "metadata": {},
   "source": [
    "### Calculating distance\n",
    "\n",
    "Now let's begin writing functions involved with calculating that hypotenuse of our right triangle.  Using the Pythagorean Theorem, $\\sqrt{a^2 + b^2} = c $, write a function called `distance_between_neighbors` that calculates $c$, the length of the hypotenuse by incorporating above functions to calculate sides."
   ]
  },
  {
   "cell_type": "code",
   "execution_count": 8,
   "metadata": {},
   "outputs": [],
   "source": [
    "import math\n",
    "\n",
    "def distance(first_neighbor, second_neighbor):\n",
    "    \n",
    "    # Calculate total distance from sides using Pythagoras theorem\n",
    "    p = None # Perpendicular\n",
    "    q = None # Base\n",
    "    d = None # Hypotenuse using Pythagoras\n",
    "\n",
    "    return d"
   ]
  },
  {
   "cell_type": "code",
   "execution_count": 9,
   "metadata": {},
   "outputs": [],
   "source": [
    "distance(fred, natalie)\n",
    "\n",
    "# 4.123105625617661"
   ]
  },
  {
   "cell_type": "markdown",
   "metadata": {},
   "source": [
    "### Writing Our \"Nearest Neighbors\" Functions\n",
    "\n",
    "This next section will work up to building a nearest_neighbor function. This is a function that given one neighbor, will tell us which neighbors are closest. How do we write something like this? Can we use our calculation of distance between two neighbors to figure out the closest neighbors to an individual?\n",
    "\n",
    "Sure, we first need to calculate the distances between one neighbor and all of the others. Next, we sort those neighbors by their distance from the selected_neighbor. Finally, we select a given number of the closest neighbors. Let's work through it.\n",
    "\n",
    "Note that we already have a function that calculates the distance between two neighbors. We may think we could simply use this function to loop through our neighbors, but that would just return an list of distances.\n",
    "\n",
    "Write function `distance_from_fred` that measures the distance between Fred and each of his neighbors. "
   ]
  },
  {
   "cell_type": "code",
   "execution_count": 10,
   "metadata": {},
   "outputs": [
    {
     "data": {
      "text/plain": [
       "[]"
      ]
     },
     "execution_count": 10,
     "metadata": {},
     "output_type": "execute_result"
    }
   ],
   "source": [
    "# Write a function that iterates through the dataframe and returns distance of Fred from \n",
    "# each of his neighbors\n",
    "\n",
    "def distance_from_fred():\n",
    "    \n",
    "    dis= []\n",
    "    \n",
    "    # Calculate distance \n",
    "\n",
    "    return dis\n",
    "\n",
    "distance_from_fred()\n",
    "\n",
    "# [0.0, 7.62, 1.0, 5.39, 2.24, 4.12]"
   ]
  },
  {
   "cell_type": "markdown",
   "metadata": {},
   "source": [
    "The returned list from the above procedure isn't super helpful. We need to know the person associated with each distance.\n",
    "\n",
    "So let's accomplish this by writing a function called `distance_with_neighbor` that works like our distance function but instead of returning a float, returns a list representing the second_neighbor's attributes."
   ]
  },
  {
   "cell_type": "code",
   "execution_count": 11,
   "metadata": {},
   "outputs": [],
   "source": [
    "# Create a function to calculate the distance of second neighbor from first\n",
    "# Return the features (name, avenue, street) of second neighbor\n",
    "\n",
    "def distance_with_neighbor(first_neighbor, second_neighbor):\n",
    "    \n",
    "    d = None # Distance\n",
    "    n1_name = None # Neighbor 1 Name\n",
    "    n2_name = None # Neighbor 2 Name\n",
    "    n2_st = None # Neighbor2 St.\n",
    "    n2_ave = None # NEighbor 2 avenue\n",
    "    \n",
    "    pass \n"
   ]
  },
  {
   "cell_type": "code",
   "execution_count": 12,
   "metadata": {},
   "outputs": [],
   "source": [
    "distance_with_neighbor(fred, natalie)\n",
    "\n",
    "# ['Fred', 'Natalie', 5, 4, 4.12]"
   ]
  },
  {
   "cell_type": "markdown",
   "metadata": {},
   "source": [
    "Now write a function called `distance_all` that returns an array representing the distances between a first_neighbor and the rest of the neighhbors in different rows using above format. The list should not return the first_neighbor in its collection of neighbors (as the distance will always be 1)."
   ]
  },
  {
   "cell_type": "code",
   "execution_count": 13,
   "metadata": {},
   "outputs": [],
   "source": [
    "# Write a function to measure the distance of first_neighbor to all others\n",
    "# Return output as above\n",
    "\n",
    "def distance_all(first_neighbor, neighbors):\n",
    "    \n",
    "    data = []\n",
    "    \n",
    "    # Measure distance in a for loop \n",
    "   \n",
    "    return data       "
   ]
  },
  {
   "cell_type": "code",
   "execution_count": 14,
   "metadata": {},
   "outputs": [
    {
     "data": {
      "text/plain": [
       "[]"
      ]
     },
     "execution_count": 14,
     "metadata": {},
     "output_type": "execute_result"
    }
   ],
   "source": [
    "d = distance_all(fred, neighbors)\n",
    "d\n",
    "\n",
    "# [['Fred', 'Suzie', 1, 1, 7.62],\n",
    "#  ['Fred', 'Bob', 5, 8, 1.0],\n",
    "#  ['Fred', 'Edgar', 6, 13, 5.39],\n",
    "#  ['Fred', 'Steven', 3, 6, 2.24],\n",
    "#  ['Fred', 'Natalie', 5, 4, 4.12]]"
   ]
  },
  {
   "cell_type": "code",
   "execution_count": 15,
   "metadata": {
    "scrolled": true
   },
   "outputs": [
    {
     "data": {
      "text/plain": [
       "[]"
      ]
     },
     "execution_count": 15,
     "metadata": {},
     "output_type": "execute_result"
    }
   ],
   "source": [
    "d = distance_all(natalie, neighbors)\n",
    "d\n",
    "\n",
    "# [['Natalie', 'Fred', 4, 8, 4.12],\n",
    "#  ['Natalie', 'Suzie', 1, 1, 5.0],\n",
    "#  ['Natalie', 'Bob', 5, 8, 4.0],\n",
    "#  ['Natalie', 'Edgar', 6, 13, 9.06],\n",
    "#  ['Natalie', 'Steven', 3, 6, 2.83]]"
   ]
  },
  {
   "cell_type": "markdown",
   "metadata": {},
   "source": [
    "Finally, write a function called `nearest_neighbors` that given a neighbor, returns an list of neighbors, ordered from closest to furthest from the neighbor. The function should take an third argument that specifies how many \"nearest\" neighbors are returned."
   ]
  },
  {
   "cell_type": "code",
   "execution_count": 16,
   "metadata": {},
   "outputs": [],
   "source": [
    "# Write a function to use distance_all(), sort the data based on distance \n",
    "# Return a specified number of top neighbors\n",
    "\n",
    "from operator import itemgetter\n",
    "def nearest_neighbors(first_neighbor, neighbors, number = None):\n",
    "    data = None # Calculate all distances\n",
    "    data_sorted = None # Sort the data and pick top n\n",
    "    return data_sorted"
   ]
  },
  {
   "cell_type": "code",
   "execution_count": 17,
   "metadata": {},
   "outputs": [],
   "source": [
    "nearest_neighbors(fred, neighbors, 3)\n",
    "\n",
    "# [['Fred', 'Bob', 5, 8, 1.0],\n",
    "#  ['Fred', 'Steven', 3, 6, 2.24],\n",
    "#  ['Fred', 'Natalie', 5, 4, 4.12]]"
   ]
  },
  {
   "cell_type": "code",
   "execution_count": 18,
   "metadata": {},
   "outputs": [],
   "source": [
    "nearest_neighbors(natalie, neighbors, 4)\n",
    "\n",
    "# [['Natalie', 'Steven', 3, 6, 2.83],\n",
    "#  ['Natalie', 'Bob', 5, 8, 4.0],\n",
    "#  ['Natalie', 'Fred', 4, 8, 4.12],\n",
    "#  ['Natalie', 'Suzie', 1, 1, 5.0]]"
   ]
  },
  {
   "cell_type": "markdown",
   "metadata": {
    "collapsed": true
   },
   "source": [
    "### Summary"
   ]
  },
  {
   "cell_type": "markdown",
   "metadata": {},
   "source": [
    "In this lab, you built out the nearest neighbors.  We'll review building out these functions in the next section for a real problem."
   ]
  }
 ],
 "metadata": {
  "kernelspec": {
   "display_name": "Python 3",
   "language": "python",
   "name": "python3"
  },
  "language_info": {
   "codemirror_mode": {
    "name": "ipython",
    "version": 3
   },
   "file_extension": ".py",
   "mimetype": "text/x-python",
   "name": "python",
   "nbconvert_exporter": "python",
   "pygments_lexer": "ipython3",
   "version": "3.6.4"
  }
 },
 "nbformat": 4,
 "nbformat_minor": 2
}
